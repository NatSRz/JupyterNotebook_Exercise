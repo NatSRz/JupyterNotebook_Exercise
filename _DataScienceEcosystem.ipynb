{
 "cells": [
  {
   "cell_type": "markdown",
   "id": "0ca22f33-a678-4b92-9b9e-e7ba23158c7a",
   "metadata": {},
   "source": [
    "# Data Science Tools and Ecosystem"
   ]
  },
  {
   "cell_type": "markdown",
   "id": "ff8cff39-be46-41d2-b47c-00854cc61add",
   "metadata": {},
   "source": [
    "### In this notebook, it will be shown a summary of Data Science Tools and Ecosystem."
   ]
  },
  {
   "cell_type": "markdown",
   "id": "354fee6f-72d8-43a4-a016-93a44819ff20",
   "metadata": {},
   "source": [
    "#### Here are some of the popular languages used by Data Scientists:\n",
    "1. Python\n",
    "2. R\n",
    "3. Java\n",
    "4. C++"
   ]
  },
  {
   "cell_type": "markdown",
   "id": "0631bf0c-4d57-4070-abf5-0696cc931056",
   "metadata": {},
   "source": [
    "#### Here are some of the common libraries used by Data Scientists:\n",
    "1. Pandas\n",
    "2. Matplotlib\n",
    "3. Scikit-learn\n",
    "4. TensorFlow"
   ]
  },
  {
   "cell_type": "markdown",
   "id": "61241ec0-c06f-40d2-a944-168f479910a7",
   "metadata": {},
   "source": [
    "|Data Science Tools|\n",
    "|---------------|\n",
    "|Jupyter Notebook|\n",
    "|RStudio|\n",
    "|Apache Zeppelin|\n",
    "|Spyder|"
   ]
  },
  {
   "cell_type": "markdown",
   "id": "da27997d-62d3-4204-ac67-463ba871c910",
   "metadata": {},
   "source": [
    "### Below It is shown a few examples of evaluating arithmetic expressions in Python"
   ]
  },
  {
   "cell_type": "code",
   "execution_count": 2,
   "id": "fbf3ed34-ca58-4e36-aab3-946ce28d06cb",
   "metadata": {
    "tags": []
   },
   "outputs": [
    {
     "data": {
      "text/plain": [
       "17"
      ]
     },
     "execution_count": 2,
     "metadata": {},
     "output_type": "execute_result"
    }
   ],
   "source": [
    "# It is shown a simple arithmetic expression to mutiply and add integers\n",
    "(3*4)+5"
   ]
  },
  {
   "cell_type": "code",
   "execution_count": 3,
   "id": "a3b289a5-91b9-4021-96f7-a14f409e227b",
   "metadata": {
    "tags": []
   },
   "outputs": [
    {
     "data": {
      "text/plain": [
       "3.3333333333333335"
      ]
     },
     "execution_count": 3,
     "metadata": {},
     "output_type": "execute_result"
    }
   ],
   "source": [
    "# with this code 200 minutes will be convert to hours by diving by 60\n",
    "200/60"
   ]
  },
  {
   "cell_type": "markdown",
   "id": "6f863eaa-eb9b-4755-8a89-df8422a4ba96",
   "metadata": {},
   "source": [
    "# Data Science Tools and Ecosystem"
   ]
  },
  {
   "cell_type": "markdown",
   "id": "b36de589-e4d9-4ad3-813a-c12df70007da",
   "metadata": {},
   "source": [
    "### In this notebook, it will be shown a summary of Data Science Tools and Ecosystem."
   ]
  },
  {
   "cell_type": "markdown",
   "id": "57978ad4-6d91-445e-97b6-bc60a47add53",
   "metadata": {},
   "source": [
    "**Objetives:**"
   ]
  },
  {
   "cell_type": "markdown",
   "id": "82307b49-d24c-4c51-ba87-56c4ef8e3a2f",
   "metadata": {},
   "source": [
    "- Principles languages for Data Sciences\n",
    "- Principles libraries for Data Sciences\n",
    "- Arithmetic expresion\n",
    "- Minutes conversion"
   ]
  },
  {
   "cell_type": "markdown",
   "id": "4f7d6b71-091d-4032-8d6d-96c4b042765f",
   "metadata": {},
   "source": [
    "## Author\n",
    "Natalia Sánchez Ruiz"
   ]
  },
  {
   "cell_type": "code",
   "execution_count": null,
   "id": "ed50d477-10a2-4140-80eb-9d0e0dd2c7f0",
   "metadata": {},
   "outputs": [],
   "source": []
  }
 ],
 "metadata": {
  "kernelspec": {
   "display_name": "Python",
   "language": "python",
   "name": "conda-env-python-py"
  },
  "language_info": {
   "codemirror_mode": {
    "name": "ipython",
    "version": 3
   },
   "file_extension": ".py",
   "mimetype": "text/x-python",
   "name": "python",
   "nbconvert_exporter": "python",
   "pygments_lexer": "ipython3",
   "version": "3.7.12"
  }
 },
 "nbformat": 4,
 "nbformat_minor": 5
}
